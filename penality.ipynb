{
 "cells": [
  {
   "cell_type": "code",
   "execution_count": 1,
   "id": "a6bdf0c9",
   "metadata": {},
   "outputs": [
    {
     "name": "stdout",
     "output_type": "stream",
     "text": [
      "1\n",
      "111111????\n",
      "9\n"
     ]
    }
   ],
   "source": [
    "for i in range(int(input())):\n",
    "    s=list(input())\n",
    "    a,b=0,0\n",
    "    ans=float(\"inf\")\n",
    "    for j in range(10):\n",
    "        if s[j]==\"1\" :\n",
    "            if j%2==0:\n",
    "                a+=1\n",
    "            else:\n",
    "                b+=1\n",
    "        elif s[j]==\"?\" and j%2==0:\n",
    "            a+=1\n",
    "        if a > b:\n",
    "            c = 0\n",
    "            for cc in range(j + 1, 10):\n",
    "                if cc % 2 != 0:\n",
    "                    c += 1\n",
    "            if b + c < a:\n",
    "                ans = min(ans, j + 1)\n",
    "        elif a < b:\n",
    "            c = 0\n",
    "            for cc in range(j + 1, 10):\n",
    "                if cc % 2 == 0:\n",
    "                    c += 1\n",
    "            if a + c < b:\n",
    "                ans = min(ans, j + 1)\n",
    "\n",
    "    #for b\n",
    "    a,b=0,0\n",
    "    for j in range(10):\n",
    "        if s[j]==\"1\" :\n",
    "            if j%2==0:\n",
    "                a+=1\n",
    "            else:\n",
    "                b+=1\n",
    "        elif s[j]==\"?\" and j%2!=0:\n",
    "            b+=1\n",
    "        if a > b:\n",
    "            c = 0\n",
    "            for cc in range(j + 1, 10):\n",
    "                if cc % 2 != 0:\n",
    "                    c += 1\n",
    "            if b + c < a:\n",
    "                ans = min(ans, j + 1)\n",
    "        elif a < b:\n",
    "            c = 0\n",
    "            for cc in range(j + 1, 10):\n",
    "                if cc % 2 == 0:\n",
    "                    c += 1\n",
    "            if a + c < b:\n",
    "                ans = min(ans, j + 1)\n",
    "    print(min(ans,10))"
   ]
  },
  {
   "cell_type": "code",
   "execution_count": null,
   "id": "b2c3bff9",
   "metadata": {},
   "outputs": [],
   "source": []
  }
 ],
 "metadata": {
  "kernelspec": {
   "display_name": "Python 3 (ipykernel)",
   "language": "python",
   "name": "python3"
  },
  "language_info": {
   "codemirror_mode": {
    "name": "ipython",
    "version": 3
   },
   "file_extension": ".py",
   "mimetype": "text/x-python",
   "name": "python",
   "nbconvert_exporter": "python",
   "pygments_lexer": "ipython3",
   "version": "3.9.7"
  }
 },
 "nbformat": 4,
 "nbformat_minor": 5
}
