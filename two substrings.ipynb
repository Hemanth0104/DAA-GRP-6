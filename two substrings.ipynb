{
 "cells": [
  {
   "cell_type": "code",
   "execution_count": 1,
   "id": "6cad2adf",
   "metadata": {},
   "outputs": [
    {
     "name": "stdout",
     "output_type": "stream",
     "text": [
      "ABA\n",
      "NO\n"
     ]
    }
   ],
   "source": [
    "def listToString(s): \n",
    "  str1 = \"\" \n",
    "  for ele in s: \n",
    "    str1 += ele   \n",
    "  return str1 \n",
    "\n",
    "def replace(s): \n",
    "  s_arr = list(s)\n",
    "  s_arr[x] = \"*\"\n",
    "  s_arr[x+1] = \"*\"\n",
    "  s = listToString(s_arr)\n",
    "  return s\n",
    "\n",
    "s = input()\n",
    "p = s\n",
    "f1 = 0\n",
    "f2 = 0\n",
    "\n",
    "if(s.find(\"AB\")==-1):\n",
    "  f1 = 1\n",
    "else:\n",
    "    x=s.find(\"AB\")\n",
    "    s=replace(s)\n",
    "\n",
    "if(s.find(\"BA\")==-1):\n",
    "  f1 = 1\n",
    "\n",
    "\n",
    "\n",
    "if(p.find(\"BA\")==-1):\n",
    "  f2 = 1\n",
    "else:\n",
    "    x=p.find(\"BA\")\n",
    "    p=replace(p)\n",
    "\n",
    "if(p.find(\"AB\")==-1):\n",
    "  f2 = 1\n",
    "\n",
    "\n",
    "if(f1 and f2 == 1):\n",
    "  print(\"NO\")\n",
    "else:\n",
    "  print(\"YES\")"
   ]
  },
  {
   "cell_type": "code",
   "execution_count": null,
   "id": "6619a014",
   "metadata": {},
   "outputs": [],
   "source": []
  }
 ],
 "metadata": {
  "kernelspec": {
   "display_name": "Python 3 (ipykernel)",
   "language": "python",
   "name": "python3"
  },
  "language_info": {
   "codemirror_mode": {
    "name": "ipython",
    "version": 3
   },
   "file_extension": ".py",
   "mimetype": "text/x-python",
   "name": "python",
   "nbconvert_exporter": "python",
   "pygments_lexer": "ipython3",
   "version": "3.9.7"
  }
 },
 "nbformat": 4,
 "nbformat_minor": 5
}
