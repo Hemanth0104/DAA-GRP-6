{
 "cells": [
  {
   "cell_type": "code",
   "execution_count": 2,
   "id": "994ec86f",
   "metadata": {
    "scrolled": true
   },
   "outputs": [
    {
     "name": "stdout",
     "output_type": "stream",
     "text": [
      "1\n",
      "4\n",
      "1001\n",
      "1100\n",
      "YES\n"
     ]
    }
   ],
   "source": [
    "#Flip a Bit\n",
    "\n",
    "def solve():\n",
    "    n = int(input())\n",
    "    a = list(map(int, input()))              # Taking Input from the user\n",
    "    b = list(map(int, input()))\n",
    "    \n",
    "    if n % 2 == 1 and a[-1] != b[-1]:         # Length of the String Check.\n",
    "        print('NO')\n",
    "        return\n",
    "    \n",
    "    pre = [0] * n                            # pre is an empty list\n",
    "    indices = [0]                            # Initilizing the variables in order to count the no of 0's and  1's\n",
    "    zc = 0\n",
    "    oc = 0\n",
    "    for i in range(n):                      # This for loop is to count the number of 0's in the String \n",
    "        if a[i] == 0:\n",
    "            zc += 1\n",
    "        else:\n",
    "            oc += 1                         # This for loop is to count the number of 1's in the String\n",
    "        if zc == oc:\n",
    "            pre[i] = 1\n",
    "            indices.append(i + 1)\n",
    "    \n",
    "    k = len(indices)                        \n",
    "    w = 0\n",
    "    for i in range(k - 1):\n",
    "        w = 1                              # iterating the loop for mismatch counter cases  \n",
    "        x = y = 0\n",
    "        for j in range(indices[i], indices[i + 1]):\n",
    "            if a[j] == b[j]:\n",
    "                x = 1\n",
    "            if a[j] != b[j]:                # Comparing the Two Strings Based on Lmegth for first half \n",
    "                x = y = 0\n",
    "                y = 1\n",
    "        if x != 0 and y != 0:\n",
    "            print('NO')                      # Checking the Not Possible Condition \n",
    "            return\n",
    "    x = 0\n",
    "    for j in range(indices[k - 1], n):\n",
    "        if a[j] != b[j]:\n",
    "            x = 1\n",
    "    if x == 1:\n",
    "        print('NO')                           # Comparing the Two Strings Based on Lmegth for second half\n",
    "        return\n",
    "            \n",
    "    if w == 1 or a == b:\n",
    "        print('YES')\n",
    "    else:\n",
    "        print('NO')\n",
    "\n",
    "        \n",
    "for _ in range(int(input())):\n",
    "    solve()\n",
    "    "
   ]
  },
  {
   "cell_type": "markdown",
   "id": "785ad769",
   "metadata": {},
   "source": [
    "# "
   ]
  }
 ],
 "metadata": {
  "kernelspec": {
   "display_name": "Python 3 (ipykernel)",
   "language": "python",
   "name": "python3"
  },
  "language_info": {
   "codemirror_mode": {
    "name": "ipython",
    "version": 3
   },
   "file_extension": ".py",
   "mimetype": "text/x-python",
   "name": "python",
   "nbconvert_exporter": "python",
   "pygments_lexer": "ipython3",
   "version": "3.9.7"
  }
 },
 "nbformat": 4,
 "nbformat_minor": 5
}
